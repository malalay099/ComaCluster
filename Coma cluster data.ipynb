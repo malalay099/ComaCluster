{
 "cells": [
  {
   "cell_type": "code",
   "execution_count": null,
   "id": "49336a93",
   "metadata": {},
   "outputs": [],
   "source": [
    "# Required libraries\n",
    "\n",
    "import numpy as np\n",
    "import pandas as pd\n",
    "import seaborn as sns\n",
    "from scipy import stats\n",
    "import scipy.stats as st\n",
    "import astropy.units as u\n",
    "from scipy.stats import norm\n",
    "from PyAstronomy import pyasl\n",
    "from astropy import units as u\n",
    "import matplotlib.pyplot as plt\n",
    "from scipy.optimize import curve_fit\n",
    "from astropy.coordinates import SkyCoord\n",
    "from scipy.stats import norm, gaussian_kde, maxwell"
   ]
  },
  {
   "cell_type": "code",
   "execution_count": null,
   "id": "e2c486c6",
   "metadata": {},
   "outputs": [],
   "source": [
    "# We load the data.\n",
    "\n",
    "df_coma = pd.read_csv('E:\\comas\\coma clusters.csv')\n",
    "\n",
    "#The head function in Python displays the first five rows of the dataframe by default.\n",
    "df_coma"
   ]
  },
  {
   "cell_type": "code",
   "execution_count": null,
   "id": "bae4b296",
   "metadata": {},
   "outputs": [],
   "source": [
    "#c  = 3e+5*(u.km/u.s)\n",
    "\n",
    "# Velocity of the galaxy\n",
    "#v_gxy = velocity.to_numpy()*(u.km/u.s)\n",
    "#size_v = np.size(v_gxy)\n",
    "\n",
    "#slist = []\n",
    "#for i in v_gxy:\n",
    "    #print(i)\n",
    " #   j = i.value / c.value \n",
    "    #print(j)\n",
    " #   slist.append(j)\n",
    "#z = np.array(slist) \n",
    "#unt = i.unit / c.unit\n",
    "\n",
    "#print(z*unt)"
   ]
  },
  {
   "cell_type": "code",
   "execution_count": null,
   "id": "0fb56887",
   "metadata": {},
   "outputs": [],
   "source": [
    "df_coma = df_coma.dropna(subset=['Velocity  '])"
   ]
  },
  {
   "cell_type": "code",
   "execution_count": null,
   "id": "f75b895d",
   "metadata": {},
   "outputs": [],
   "source": [
    "df_coma.columns"
   ]
  },
  {
   "cell_type": "code",
   "execution_count": null,
   "id": "ee1c6d4b",
   "metadata": {},
   "outputs": [],
   "source": [
    "velocity = df_coma['Velocity  ']\n",
    "magnitude =  df_coma['Magnitude   ']\n",
    "sns.distplot(df_coma['Velocity  '], kde=True, bins=200, color = 'b')\n",
    "plt.xlabel('velocity (kms$^{-1}$)')\n",
    "plt.ylabel('Count')\n",
    "fig, ax = plt.subplots()\n",
    "ax = velocity.hist(bins=100,density=True, color='b')\n",
    "ax.set_xlim([2500,11000])\n",
    "#plt.title('نمودار سرعت_قدر ظاهری')\n",
    "plt.xlabel('velocity (kms$^{-1}$)')\n",
    "plt.ylabel(' Magnitude ')\n",
    "plt.show()"
   ]
  },
  {
   "cell_type": "code",
   "execution_count": null,
   "id": "a879b3f1",
   "metadata": {},
   "outputs": [],
   "source": [
    "# محور افقی فراوانی(قدر ظاهری) و محور قایم سرعت کهکشان هاست.\n",
    "magnitude\n",
    "fig2, ax2 = plt.subplots()\n",
    "ax2 = plt.scatter(magnitude,velocity, marker=\"*\", color='b', label = 'Data1+Data2')\n",
    "plt.xlim([10,25])\n",
    "plt.ylim([3000,12000])\n",
    "#plt.savefig('my.fig7.png', dpi=300)\n",
    "plt.xlabel(\"Magnitude\")\n",
    "plt.ylabel(\"Velocity (kms$^{-1}$)\")\n",
    "#plt.title('subplots')\n",
    "#plt.legend(loc = 'upper left')\n",
    "plt.show()"
   ]
  },
  {
   "cell_type": "code",
   "execution_count": null,
   "id": "f3b3545e",
   "metadata": {},
   "outputs": [],
   "source": [
    "# Loc\n",
    "# از لیبل یا برچسب سطر و ستون برای دسترسی به آن استفاده میکند.\n",
    "coma = df_coma.loc[(df_coma['Velocity  '] >=2000) & (df_coma['Velocity  '] <=12000)]"
   ]
  },
  {
   "cell_type": "code",
   "execution_count": null,
   "id": "3dcfcb18",
   "metadata": {},
   "outputs": [],
   "source": [
    "# هسیتوگرام رسم میکنیم\n",
    "\n",
    "hist, bin_edge = np.histogram(coma['Velocity  '], 20, density=True)"
   ]
  },
  {
   "cell_type": "code",
   "execution_count": null,
   "id": "ebe0c66b",
   "metadata": {},
   "outputs": [],
   "source": [
    "# تایع گاووسی \n",
    "# تابع اولی تایع گاوسی است \n",
    "# تابع دومی لگاریتم تابع گاوسی است.\n",
    "def gauss(x,a,mu,sigma):\n",
    "    y = a - mu*(x-sigma)**2\n",
    "    return y\n",
    "def gauss2(x,a,mu,sigma):\n",
    "    y = np.exp(a-mu*(x-sigma)**2)\n",
    "    return y"
   ]
  },
  {
   "cell_type": "code",
   "execution_count": null,
   "id": "815c0850",
   "metadata": {},
   "outputs": [],
   "source": [
    "# Len:  برای محاسبه طول لیست\n",
    "n = len(bin_edge)\n",
    "hist_x = np.zeros(n-1)\n",
    "for i in range(n-1):\n",
    "    hist_x[i] = (bin_edge[i]+bin_edge[i+1])/2\n",
    "hist_y = hist"
   ]
  },
  {
   "cell_type": "code",
   "execution_count": null,
   "id": "a46e58b0",
   "metadata": {},
   "outputs": [],
   "source": [
    "hist_y = np.where(hist_y == 0, 1e-10, hist_y)\n",
    "coef, cov = curve_fit(gauss, hist_x, np.log(hist_y))\n",
    "#print(coef)\n",
    "#print(cov)"
   ]
  },
  {
   "cell_type": "code",
   "execution_count": null,
   "id": "6fffe7a7",
   "metadata": {},
   "outputs": [],
   "source": [
    "num_bins = 100\n",
    "\n",
    "fig, ax = plt.subplots()\n",
    "ax = coma['Velocity  '].hist(bins=num_bins,density=True)\n",
    "#ax.plot(hist_x,gauss2(hist_x, coef[0],coef[1],coef[2]), 'r')\n",
    "ax.set_xlim([4000, 10000])\n",
    "#plt.xlabel('Velocity')\n",
    "#plt.ylabel('Magnitude')\n",
    "#plt.title('Normal Distribution')\n",
    "#plt.legend()\n",
    "\n",
    "plt.show()"
   ]
  },
  {
   "cell_type": "code",
   "execution_count": null,
   "id": "a840e066",
   "metadata": {},
   "outputs": [],
   "source": [
    "#‌محاسبه و رسم مو و زیگما با توجه به نمودار\n",
    "velocity = velocity[(velocity >= 4000) & (velocity <= 10000)]\n",
    "app_mag = coma['Magnitude   ']\n",
    "mu, sigma = norm.fit(velocity)"
   ]
  },
  {
   "cell_type": "code",
   "execution_count": null,
   "id": "454ec670",
   "metadata": {},
   "outputs": [],
   "source": [
    "num_bins = 20\n",
    "fig, ax = plt.subplots()\n",
    "n, bins, patches = ax.hist(velocity, num_bins, density=True, color='b')\n",
    "\n",
    "bincenters = 0.5*(bins[1:]+bins[:-1])\n",
    "y = ((1 / (np.sqrt(2 * np.pi) * sigma)) *\n",
    "     np.exp(-0.5* (1 / sigma * (bins - mu))**2))\n",
    "\n",
    "ax.plot(bins, y, '--', c='r')\n",
    "\n",
    "\n",
    "#ax.set_xlabel('Velocity(m/s)')\n",
    "#ax.set_ylabel('Magnitude')\n",
    "ax.set_title('$\\mu=$ %0.2f, $\\sigma=$  %0.2f' % (mu, sigma))\n",
    "plt.xlabel('Velocity (kms$^{-1}$)')\n",
    "plt.ylabel('Magnitude ')\n",
    "fig.tight_layout()\n",
    "plt.show()"
   ]
  },
  {
   "cell_type": "code",
   "execution_count": null,
   "id": "d38ed47d",
   "metadata": {},
   "outputs": [],
   "source": [
    "sigma = 0.5/np.sqrt(coef[1])\n",
    "# سرعت متوسط\n",
    "v_mean = coef[2]\n",
    "# سرعت مینیمم\n",
    "v_min = v_mean - 2*sigma\n",
    "# سرعت ماکزیمم\n",
    "v_max = v_mean + 2*sigma\n",
    "print('Mean Velocity = {0:4.2f},   Minimum Velocity = {1:4.2f},   Maximum Velocity = {2:4.2f}'.format(v_mean, v_min, v_max))"
   ]
  },
  {
   "cell_type": "code",
   "execution_count": null,
   "id": "e7b0139e",
   "metadata": {},
   "outputs": [],
   "source": [
    "# تعداد کهکشان ها ما که در زیر نمودار تابع توزیع گاووسی است مجموع اش 545 کهکشان است.\n",
    "# و اینجا میانگین، ماکزیمم، مینیمم و استندرد دیویشن سرعت 545 کهکشان، قدر ظاهری 545 کهکشان و محورات اینها آن 545 کهکشان است.\n",
    "\n",
    "coma.describe()\n",
    "#coma.head()\n",
    "#coma"
   ]
  },
  {
   "cell_type": "code",
   "execution_count": null,
   "id": "571d4ac5",
   "metadata": {},
   "outputs": [],
   "source": [
    "coma.columns"
   ]
  },
  {
   "cell_type": "code",
   "execution_count": null,
   "id": "d7614f2c",
   "metadata": {},
   "outputs": [],
   "source": [
    "# RA and Dec values (example data)\n",
    "x = coma['RA']\n",
    "y = coma['Dec']\n",
    "\n",
    "ra = ngc['ra']\n",
    "dec = ngc['de']\n",
    "\n",
    "# Create a scatter plot\n",
    "plt.scatter(x, y, color='b', marker = '*')\n",
    "plt.scatter(ra, dec, color='r', marker = '*')\n",
    "\n",
    "plt.annotate('NGC4889', xy=(195.1, 29))\n",
    "plt.annotate('NGC 4874', xy=(194.87,28.9))\n",
    "plt.annotate('NGC 4839', xy=(194.4,28.2))\n",
    "\n",
    "# Set the title of the plot\n",
    "plt.xlim(195.4,194)\n",
    "#plt.ylim(27.6,29.5)\n",
    "degree_sign = u'\\N{DEGREE SIGN}'\n",
    "plt.xlabel('RA [' + degree_sign + ']')\n",
    "plt.ylabel('Dec [' + degree_sign + ']')\n",
    "\n",
    "# Display the plot\n",
    "plt.show()"
   ]
  },
  {
   "cell_type": "code",
   "execution_count": null,
   "id": "ef464b10",
   "metadata": {},
   "outputs": [],
   "source": [
    "# Hubble Law (H_law = 67.4+/-0.5)\n",
    "# توسط قانون هابل فاصله تک تک کهکشان زیر نمودار را بدست اوردیم\n",
    "\n",
    "H_law = 67.4*(u.km/(u.s*u.Mpc))\n",
    "\n",
    "# Velocity of the galaxy\n",
    "v_gxy = velocity.to_numpy()*(u.km/u.s)\n",
    "size_v = np.size(v_gxy)\n",
    "\n",
    "## slist = np.empty([0],dtype=type(H_law))\n",
    "slist = []\n",
    "for i in v_gxy:\n",
    "    #print(i)\n",
    "    j = i.value / H_law.value \n",
    "    #print(j)\n",
    "    slist.append(j)\n",
    "d_gxy = np.array(slist) \n",
    "unt = i.unit / H_law.unit\n",
    "\n",
    "#print(\"mean of distance galaxy: \", np.mean(d_gxy)) \n",
    "print(d_gxy*unt)"
   ]
  },
  {
   "cell_type": "code",
   "execution_count": null,
   "id": "6bc84a95",
   "metadata": {},
   "outputs": [],
   "source": [
    "# از قانون هابل اول فاصله ها را بدست اوردم بعد ضرب ضریب ثابت هابل کردم که اینجا ماکزیمم و مینیمم فاصله هاست.\n",
    "\n",
    "vmax_gxy = 9889.00    # km/s\n",
    "vmin_gxy = 4732.00      # km/s\n",
    "\n",
    "# Hubble Law (67.66+42 and 67.66-42)\n",
    "\n",
    "H_law = 67             # km/s Mpc\n",
    "h100 = 0.67\n",
    "\n",
    "dmax_gxy = vmax_gxy / H_law\n",
    "dmin_gxy = vmin_gxy / H_law\n",
    "d_max = dmax_gxy*h100\n",
    "d_min = dmin_gxy*h100\n",
    "\n",
    "print('maximum distance:', d_max*(u.Mpc))\n",
    "print('minimum distance:', d_min*(u.Mpc))\n",
    "#print(dmax_gxy)\n",
    "#print(dmin_gxy)"
   ]
  },
  {
   "cell_type": "code",
   "execution_count": null,
   "id": "1474f18f",
   "metadata": {},
   "outputs": [],
   "source": [
    "# فاصله میانگین و فاصله استندرد دیویشن را از طریق قانون هابل بدست اوردم\n",
    "# اینجا فاصله میانگین یعنی فاصله هابلی کل کهکشان ها 99 میگا پارسک شد\n",
    "\n",
    "v_mean = 6980.00\n",
    "v_sigma = 1085.25\n",
    "# H_law (67.66+0.42 and 67.66-0.42)\n",
    "H_law = 67\n",
    "h100 = 0.67\n",
    "\n",
    "d_law = v_mean / H_law\n",
    "d_sigma = v_sigma / H_law\n",
    "d = d_law*h100\n",
    "d_std = d_sigma*h100\n",
    "print('Distance of Coma Cluster: ', d_law*(u.Mpc))\n",
    "print('mean distnace: ', d*(u.Mpc))\n",
    "#print('standard deviation of distance :', d_sigma*(u.Mpc))\n",
    "#print('standard deviation of distance:', d_std*(u.Mpc))"
   ]
  },
  {
   "cell_type": "code",
   "execution_count": null,
   "id": "47f6a53d",
   "metadata": {},
   "outputs": [],
   "source": [
    "# سرعت شعاعی یا قطر ظاهری\n",
    "# alpa 0.7 degree (0.012 radian)\n",
    "\n",
    "α = 0.012       # unit: (u.r)\n",
    "#d_law = 100     # unit: (u.Mpc)\n",
    "\n",
    "D = α * d_law\n",
    "print('apparent diameter:', D*u.Mpc)"
   ]
  },
  {
   "cell_type": "code",
   "execution_count": null,
   "id": "88341043",
   "metadata": {},
   "outputs": [],
   "source": [
    "# Absolute Magnitude\n",
    "# در اینجا از رابطه زیر قدر مطلق تک تک کهکشان ها بدست امد \n",
    "\n",
    "# am (apparent magnitudes of the galaxy )\n",
    "am = app_mag.to_numpy()\n",
    "\n",
    "# abs_m  or absMag_gxy (Absolute Magnitude  of the galaxy)\n",
    "\n",
    "def absMag_gxy(appMag_gxy, d_law):\n",
    "    absMag_gxy = appMag_gxy-5*(np.log10(d_law*1e+6/10))\n",
    "    return absMag_gxy\n",
    "abs_m = []\n",
    "for i in range(np.size(am)):\n",
    "    abs_m.append(absMag_gxy(am[i], d_law))\n",
    "    \n",
    "print(abs_m)"
   ]
  },
  {
   "cell_type": "code",
   "execution_count": null,
   "id": "c04b35dd",
   "metadata": {},
   "outputs": [],
   "source": [
    "# از رابطه بالا میانگین قدر مطلق، ماکزیمم و مینیمم قدر مطلق را بدست اوردم\n",
    "\n",
    "appM_max = 22.61\n",
    "appM_min = 2.20\n",
    "appM_mean = 17.53\n",
    "d_max = 105             # Mpc\n",
    "d_min = 103             # Mpc\n",
    "d_mean = 102            # Mpc\n",
    "\n",
    "#Mu_max = 5*(np.log10(d_max*1e+6/10))\n",
    "#Mu_min = 5*(np.log10(d_min*1e+6/10))\n",
    "#Mu_mean = 5*(np.log10(d_law*1e+6/10))\n",
    "\n",
    "absM_max = appM_max-35.10\n",
    "absM_min = appM_min-35.06\n",
    "absM_mean = appM_mean-35\n",
    "\n",
    "print('Absolute Magnitude maximum : ', absM_max)\n",
    "print('Absolute Magnitude minimum: ', absM_min)\n",
    "print('Absolute Magnitude mean : ', absM_mean)"
   ]
  },
  {
   "cell_type": "code",
   "execution_count": null,
   "id": "b4ebe217",
   "metadata": {},
   "outputs": [],
   "source": [
    "# در اینجا درخشندگی تک تک کهکشان ها بدست میاریم\n",
    "#Luminosity of the galaxy\n",
    "Lum_sun = 3.85e+26    #*(u.watt)\n",
    "\n",
    "def Lum_gxy (Lum_sun, absMag_gxy):\n",
    "    Lum_gxy = 84*10**(-2/5*(absMag_gxy))*Lum_sun\n",
    "    return Lum_gxy\n",
    "lum_gxy=[]\n",
    "for i in range(np.size(abs_m)):\n",
    "    lum_gxy.append(Lum_gxy (Lum_sun, abs_m[i]))\n",
    "    \n",
    "print(lum_gxy*u.watt)"
   ]
  },
  {
   "cell_type": "code",
   "execution_count": null,
   "id": "37ee1646",
   "metadata": {},
   "outputs": [],
   "source": [
    "#Luminosity of the galaxy\n",
    "Lum_sun = 3.85e+26    #*(u.watt)\n",
    "\n",
    "ab = -17.47\n",
    "abc = -12.49\n",
    "abn = -32.86\n",
    "Lumgxy_max = 84*10**(-2/5*(abc))*Lum_sun                          \n",
    "Lumgxy_min = 84*10**(-2/5*(abn))*Lum_sun                          \n",
    "Lumgxy_mean = 84*10**(-2/5*(ab))*Lum_sun                       \n",
    "\n",
    "print('Luminosity galaxy of maximum: ', Lumgxy_max*(u.watt))\n",
    "print('Luminosity galaxy of minimum:', Lumgxy_min*(u.watt))\n",
    "print('Luminosity galaxy of mean:', Lumgxy_mean*(u.watt))"
   ]
  },
  {
   "cell_type": "code",
   "execution_count": null,
   "id": "786e263e",
   "metadata": {},
   "outputs": [],
   "source": [
    "#  ..در اینجا از رابطه ذیل جرم تک تک کهکشان های زیر نمودار تابع گاووسی را بدست اورده و در سلول بعدی میانگین، مینیممم و ماکزیمم را بدست اوردم\n",
    "\n",
    "# Galaxy Mass\n",
    "\n",
    "def Mass_gxy(absMag_gxy):\n",
    "    Mass_gxy = 3e+28*5e+3*10**(-2/5*(absMag_gxy))\n",
    "    return Mass_gxy\n",
    "\n",
    "# m_g (mass of the galaxy)\n",
    "Mg=[]\n",
    "for i in range(np.size(abs_m)):\n",
    "    Mg.append(Mass_gxy(abs_m[i]))\n",
    "    \n",
    "print(Mg*u.kg)\n",
    "#print('mean of mass galaxy: ', np.mean(m_g))"
   ]
  },
  {
   "cell_type": "code",
   "execution_count": null,
   "id": "e05a39eb",
   "metadata": {},
   "outputs": [],
   "source": [
    "# جدول زیر مقادیر 191 کهکشان(جرم، درخشندگی، قدر مطلق، قدر ظاهری و مدل فاصله) آنهاست\n",
    "\n",
    "my_dict = {\n",
    "    'Lum_gxy ' : lum_gxy,\n",
    "    'Mass_gxy ' : Mg,\n",
    "    'App_mag ' : am,\n",
    "    'Absolute ' : abs_m\n",
    "    \n",
    "};\n",
    "\n",
    "clusters = pd.DataFrame(my_dict)\n",
    "clusters"
   ]
  },
  {
   "cell_type": "code",
   "execution_count": null,
   "id": "c5ccccd6",
   "metadata": {},
   "outputs": [],
   "source": [
    "# جدول زیر مقادیر 191 کهکشان(جرم، درخشندگی، قدر مطلق، قدر ظاهری و مدل فاصله) آنهاست\n",
    "\n",
    "my_dict = {\n",
    "    'Distance ': d_gxy\n",
    "    \n",
    "};\n",
    "\n",
    "cluster0 = pd.DataFrame(my_dict)\n",
    "#cluster0\n",
    "clusters.describe()"
   ]
  },
  {
   "cell_type": "code",
   "execution_count": null,
   "id": "fc353b21",
   "metadata": {},
   "outputs": [],
   "source": [
    "# مقدار سیگما را از روی نمودار بالا داریم\n",
    "# MN_gxy (Mass.N of galaxy): جرم کل را هم از جدول بالا داریم\n",
    "\n",
    "σ = 1085250              # m/s\n",
    "MN_gxy = 2.14e+45           # kg         #جرم کل 191 کهکشان \n",
    "K_egy = 3/2*MN_gxy*σ**2\n",
    "\n",
    "print('Kinetic_energy of galaxy:', K_egy*u.Joule)"
   ]
  },
  {
   "cell_type": "code",
   "execution_count": null,
   "id": "d9f899bf",
   "metadata": {},
   "outputs": [],
   "source": [
    "# :میانگین انرژی جنبشی 191 کهکشان خوشه ی گیسو عبارت از\n",
    "\n",
    "N = 540\n",
    "K_mean = K_egy/N\n",
    "\n",
    "print('The Kinetic Energy mean of galaxy:', K_mean*u.J)"
   ]
  },
  {
   "cell_type": "code",
   "execution_count": null,
   "id": "57a089e2",
   "metadata": {},
   "outputs": [],
   "source": [
    "# انرژی پتانسیل را بدست میاریم\n",
    "\n",
    "G = 6.67e-11              # m^3/kg*s^2\n",
    "MN_gxy = 3.98e+42      # kg\n",
    "R = 3.08e+22              # m\n",
    "\n",
    "P_e = -2/5*G*(MN_gxy**2)/R\n",
    "print('Potential energy:', P_e*(u.J))"
   ]
  },
  {
   "cell_type": "code",
   "execution_count": null,
   "id": "8f36c681",
   "metadata": {},
   "outputs": [],
   "source": [
    "# زمان خوشه گیسو\n",
    "# اگر زمانی ازین مرتبه صبر کنیم شعاع این خوشه تقربیآ دو برابر میشود\n",
    "\n",
    "δv = 1085.25           # km/s\n",
    "R_gxy = 3.08e+19        # km\n",
    "T = R_gxy/δv\n",
    "print('Times of coma cluster:', T*(u.second))"
   ]
  },
  {
   "cell_type": "code",
   "execution_count": null,
   "id": "05bb0115",
   "metadata": {},
   "outputs": [],
   "source": [
    "# جرم ویریال\n",
    "\n",
    "σ = 1e+7          # unit: m/s\n",
    "R_vir = 3.08e+22          # unit: m\n",
    "G = 6.67e-11              # unit: m^3/kg.s^2\n",
    "\n",
    "M_vir = 5*R_vir*(σ**2)/G\n",
    "print('Mass Virial of galaxy:', M_vir*u.kg)"
   ]
  },
  {
   "cell_type": "code",
   "execution_count": null,
   "id": "a52125ec",
   "metadata": {},
   "outputs": [],
   "source": [
    "# چگالی خوشه گیسو\n",
    "\n",
    "#R = 1Mpc\n",
    "#v = 2.92e+67              # m^3\n",
    "V = 1e+68\n",
    "ρ_mean = M_vir/V\n",
    "print('Density of galaxy:', ρ_mean*(u.kg/u.m**3))"
   ]
  },
  {
   "cell_type": "code",
   "execution_count": null,
   "id": "85c894ae",
   "metadata": {},
   "outputs": [],
   "source": [
    "# Read the data from a CSV file\n",
    "\n",
    "coma2004 = pd.read_csv('E:\\\\2004.csv')\n",
    "coma2004"
   ]
  },
  {
   "cell_type": "code",
   "execution_count": null,
   "id": "68f165a2",
   "metadata": {},
   "outputs": [],
   "source": [
    "# Define the center coordinates in hours, minutes, degrees and seconds\n",
    "ra_center = [12, 59, 42.75]\n",
    "dec_center = [28, 58, 14.4]\n",
    "\n",
    "# Convert the center coordinates to degrees\n",
    "ra_center_deg = (ra_center[0] + ra_center[1]/60 + ra_center[2]/3600) * 15\n",
    "dec_center_deg = dec_center[0] + dec_center[1]/60 + dec_center[2]/3600 "
   ]
  },
  {
   "cell_type": "code",
   "execution_count": null,
   "id": "95aff8b7",
   "metadata": {},
   "outputs": [],
   "source": [
    "# Set the x and y axis coordinates in J2000 coordinates\n",
    "x_coord = coma2004['X'] \n",
    "y_coord = coma2004['Y']\n",
    "\n",
    "# Convert the RA and Dec offsets to degrees\n",
    "ra_offset_deg = x_coord / 60\n",
    "dec_offset_deg = y_coord / 60\n",
    "\n",
    "# Calculate the RA and Dec coordinates for each data point\n",
    "ra_deg = ra_center_deg + ra_offset_deg\n",
    "dec_deg = dec_center_deg + dec_offset_deg\n",
    "\n",
    "# Calculate the x and y coordinates in arcseconds\n",
    "x_arcsec = (ra_deg - ra_center_deg) * 60 * np.cos(np.deg2rad(dec_center_deg))\n",
    "y_arcsec = (dec_deg- dec_center_deg) * 60\n",
    "\n",
    "# Determine whether the x and y coordinates are positive or negative\n",
    "x_sign = np.where(x_arcsec >= 0, 1, -1)\n",
    "y_sign = np.where(y_arcsec >= 0, 1, -1)\n",
    "\n",
    "# Convert the x and y coordinates to absolute values\n",
    "x_arcsec_abs = np.abs(x_arcsec)\n",
    "y_arcsec_abs = np.abs(y_arcsec)\n",
    "\n",
    "# Convert the x and y coordinates to degrees\n",
    "x_deg = x_arcsec_abs / 60\n",
    "y_deg = y_arcsec_abs / 60\n",
    "\n",
    "# Determine the sign of the x and y coordinates in degrees\n",
    "x_sign_deg = np.where(x_sign == 1, 'E', 'W')\n",
    "y_sign_deg = np.where(y_sign == 1, 'N', 'S')"
   ]
  },
  {
   "cell_type": "code",
   "execution_count": null,
   "id": "527fc493",
   "metadata": {},
   "outputs": [],
   "source": [
    "# Create a numpy array with the final data\n",
    "##data = np.column_stack((ra_deg, dec_deg, x_deg, y_deg, x_sign_deg, y_sign_deg))\n",
    "data = np.column_stack((np.round(ra_deg,2), np.round(dec_deg,2), np.round(x_deg,2), np.round(y_deg,2), \n",
    "                        x_sign_deg, y_sign_deg))\n",
    "\n",
    "# Save the data to a CSV file\n",
    "np.savetxt('coma2004_degrees.csv', data, delimiter=',', header='RA,Dec,X,Y,X_sign,Y_sign', fmt='%s')"
   ]
  },
  {
   "cell_type": "code",
   "execution_count": null,
   "id": "f10c1092",
   "metadata": {},
   "outputs": [],
   "source": [
    "new_coma = pd.read_csv('coma2004_degrees.csv')\n",
    "new_coma"
   ]
  },
  {
   "cell_type": "code",
   "execution_count": null,
   "id": "84235ed3",
   "metadata": {},
   "outputs": [],
   "source": [
    "# RA and Dec values (example data)\n",
    "ra_values = new_coma['# RA']\n",
    "dec_values = new_coma['Dec']\n",
    "\n",
    "# Create a scatter plot\n",
    "plt.scatter(ra_values, dec_values, color='g', marker = '*', label = 'Data3(2004)')\n",
    "\n",
    "# Set the x-axis label\n",
    "plt.xlabel('x_axis (degrees)')\n",
    "plt.ylim(28,29.5)\n",
    "# Set the y-axis label\n",
    "plt.ylabel('y_axis (degrees)')\n",
    "plt.legend(loc='lower left')\n",
    "\n",
    "# Display the plot\n",
    "plt.show()"
   ]
  },
  {
   "cell_type": "code",
   "execution_count": null,
   "id": "d7564e01",
   "metadata": {},
   "outputs": [],
   "source": [
    "# Read the data from a CSV file\n",
    "coma_GMP = pd.read_csv('E:\\\\comaa.csv')\n",
    "coma_GMP"
   ]
  },
  {
   "cell_type": "code",
   "execution_count": null,
   "id": "63ff262b",
   "metadata": {},
   "outputs": [],
   "source": [
    "# Define the center coordinates in hours, minutes, degrees and seconds\n",
    "ra_center = [12, 59, 42.75]\n",
    "dec_center = [28, 58, 14.4]\n",
    "\n",
    "# Convert the center coordinates to degrees\n",
    "ra_center_deg = (ra_center[0] + ra_center[1]/60 + ra_center[2]/3600) * 15 - 0.1\n",
    "dec_center_deg = dec_center[0] + dec_center[1]/60 + dec_center[2]/3600"
   ]
  },
  {
   "cell_type": "code",
   "execution_count": null,
   "id": "c027bc74",
   "metadata": {},
   "outputs": [],
   "source": [
    "# Set the x and y axis coordinates in J2000 coordinates\n",
    "x_coord = coma_GMP['x_axis'] \n",
    "y_coord = coma_GMP['y_axis']\n",
    "\n",
    "# Convert the RA and Dec offsets to degrees\n",
    "ra_offset_deg = x_coord / 3600\n",
    "dec_offset_deg = y_coord / 3600\n",
    "\n",
    "# Calculate the RA and Dec coordinates for each data point\n",
    "ra_deg = ra_center_deg + ra_offset_deg\n",
    "dec_deg = dec_center_deg + dec_offset_deg\n",
    "\n",
    "# Calculate the x and y coordinates in arcseconds\n",
    "x_arcsec = (ra_deg - ra_center_deg) * 3600 * np.cos(np.deg2rad(dec_center_deg))\n",
    "y_arcsec = (dec_deg- dec_center_deg) * 3600\n",
    "\n",
    "# Determine whether the x and y coordinates are positive or negative\n",
    "x_sign = np.where(x_arcsec >= 0, 1, -1)\n",
    "y_sign = np.where(y_arcsec >= 0, 1, -1)\n",
    "\n",
    "# Convert the x and y coordinates to absolute values\n",
    "x_arcsec_abs = np.abs(x_arcsec)\n",
    "y_arcsec_abs = np.abs(y_arcsec)\n",
    "\n",
    "# Convert the x and y coordinates to degrees\n",
    "x_deg = x_arcsec_abs / 3600\n",
    "y_deg = y_arcsec_abs / 3600\n",
    "\n",
    "# Determine the sign of the x and y coordinates in degrees\n",
    "x_sign_deg = np.where(x_sign == 1, 'E', 'W')\n",
    "y_sign_deg = np.where(y_sign == 1, 'N', 'S')"
   ]
  },
  {
   "cell_type": "code",
   "execution_count": null,
   "id": "376398f0",
   "metadata": {},
   "outputs": [],
   "source": [
    "# Create a numpy array with the final data\n",
    "##data = np.column_stack((ra_deg, dec_deg, x_deg, y_deg, x_sign_deg, y_sign_deg))\n",
    "data = np.column_stack((np.round(ra_deg,2), np.round(dec_deg,2), np.round(x_deg,2), np.round(y_deg,2), \n",
    "                        x_sign_deg, y_sign_deg))\n",
    "\n",
    "# Save the data to a CSV file\n",
    "np.savetxt('comaGMP_degrees1.csv', data, delimiter=',', header='RA,Dec,X,Y,X_sign,Y_sign', fmt='%s')"
   ]
  },
  {
   "cell_type": "code",
   "execution_count": null,
   "id": "e4311a7e",
   "metadata": {},
   "outputs": [],
   "source": [
    "new_comaGMP = pd.read_csv('comaGMP_degrees1.csv')\n",
    "new_comaGMP"
   ]
  },
  {
   "cell_type": "code",
   "execution_count": null,
   "id": "ba61ac51",
   "metadata": {},
   "outputs": [],
   "source": [
    "# RA and Dec values (example data)\n",
    "ra_values = new_comaGMP['# RA']\n",
    "dec_values = new_comaGMP['Dec']\n",
    "\n",
    "# Create a scatter plot\n",
    "plt.scatter(ra_values, dec_values, color='b', marker = '*', label = 'Data1')\n",
    "\n",
    "# Set the x-axis label\n",
    "\n",
    "# Set the x-axis label\n",
    "plt.xlabel('Right Ascension (degrees)')\n",
    "# Set the y-axis label\n",
    "plt.ylabel('Declination (degrees)')\n",
    "plt.ylim(28,29.5)\n",
    "#plt.xlim(195.7,194.4)\n",
    "plt.legend(loc='lower left')\n",
    "# Display the plot\n",
    "plt.show()"
   ]
  },
  {
   "cell_type": "code",
   "execution_count": null,
   "id": "88c56ad6",
   "metadata": {},
   "outputs": [],
   "source": [
    "# Read the data from a CSV file\n",
    "mgc = pd.read_csv('E:\\\\mgc.csv')\n",
    "mgc"
   ]
  },
  {
   "cell_type": "code",
   "execution_count": null,
   "id": "c183752c",
   "metadata": {},
   "outputs": [],
   "source": [
    "# Define the center coordinates in hours, minutes, degrees and seconds\n",
    "ra_centers = [12, 59, 42.75]\n",
    "dec_centers = [28, 58, 14.4]\n",
    "\n",
    "# Convert the center coordinates to degrees\n",
    "ra_center_deg = (ra_center[0] + ra_center[1]/60 + ra_center[2]/3600) * 15 - 0.1\n",
    "dec_center_deg = dec_center[0] + dec_center[1]/60 + dec_center[2]/3600"
   ]
  },
  {
   "cell_type": "code",
   "execution_count": null,
   "id": "b5acc3b3",
   "metadata": {},
   "outputs": [],
   "source": [
    "# Set the x and y axis coordinates in J2000 coordinates\n",
    "x_coord = mgc['x_axis'] \n",
    "y_coord = mgc['y_axis']\n",
    "\n",
    "# Convert the RA and Dec offsets to degrees\n",
    "ra_offset_deg = x_coord / 3600\n",
    "dec_offset_deg = y_coord / 3600\n",
    "\n",
    "# Calculate the RA and Dec coordinates for each data point\n",
    "ra_deg = ra_center_deg + ra_offset_deg\n",
    "dec_deg = dec_center_deg + dec_offset_deg\n",
    "\n",
    "# Calculate the x and y coordinates in arcseconds\n",
    "x_arcsec = (ra_deg - ra_center_deg) * 3600 * np.cos(np.deg2rad(dec_center_deg))\n",
    "y_arcsec = (dec_deg- dec_center_deg) * 3600\n",
    "\n",
    "# Determine whether the x and y coordinates are positive or negative\n",
    "x_sign = np.where(x_arcsec >= 0, 1, -1)\n",
    "y_sign = np.where(y_arcsec >= 0, 1, -1)\n",
    "\n",
    "# Convert the x and y coordinates to absolute values\n",
    "x_arcsec_abs = np.abs(x_arcsec)\n",
    "y_arcsec_abs = np.abs(y_arcsec)\n",
    "\n",
    "# Convert the x and y coordinates to degrees\n",
    "x_deg = x_arcsec_abs / 3600\n",
    "y_deg = y_arcsec_abs / 3600\n",
    "\n",
    "# Determine the sign of the x and y coordinates in degrees\n",
    "x_sign_deg = np.where(x_sign == 1, 'E', 'W')\n",
    "y_sign_deg = np.where(y_sign == 1, 'N', 'S')"
   ]
  },
  {
   "cell_type": "code",
   "execution_count": null,
   "id": "2202aea0",
   "metadata": {},
   "outputs": [],
   "source": [
    "# Create a numpy array with the final data\n",
    "##data = np.column_stack((ra_deg, dec_deg, x_deg, y_deg, x_sign_deg, y_sign_deg))\n",
    "mgc = np.column_stack((np.round(ra_deg,2), np.round(dec_deg,2), np.round(x_deg,2), np.round(y_deg,2), \n",
    "                        x_sign_deg, y_sign_deg))\n",
    "\n",
    "# Save the data to a CSV file\n",
    "np.savetxt('mgcs.csv', mgc, delimiter=',', header='RA,Dec,X,Y,X_sign,Y_sign', fmt='%s')"
   ]
  },
  {
   "cell_type": "code",
   "execution_count": null,
   "id": "537cc052",
   "metadata": {},
   "outputs": [],
   "source": [
    "new_mgc = pd.read_csv('mgcs.csv')\n",
    "new_mgc.head()"
   ]
  },
  {
   "cell_type": "code",
   "execution_count": null,
   "id": "d172de22",
   "metadata": {},
   "outputs": [],
   "source": [
    "ngc = pd.read_csv('E:NGC.csv')\n",
    "#ngc.columns\n",
    "ngc"
   ]
  },
  {
   "cell_type": "code",
   "execution_count": null,
   "id": "d006f542",
   "metadata": {},
   "outputs": [],
   "source": [
    "# Read the data from a CSV file\n",
    "\n",
    "comaMb = pd.read_csv('E:\\comas\\\\coma2001_edit.csv')\n",
    "comaMb"
   ]
  },
  {
   "cell_type": "code",
   "execution_count": null,
   "id": "a31031a1",
   "metadata": {},
   "outputs": [],
   "source": [
    "# Define the columns containing the RA and Dec in hours, minutes, and seconds\n",
    "\n",
    "ra_cols = ['RA_hours', 'RA_minutes', 'RA_seconds']\n",
    "dec_cols = ['Dec_degrees', 'Dec_minutes', 'Dec_seconds']"
   ]
  },
  {
   "cell_type": "code",
   "execution_count": null,
   "id": "9937b324",
   "metadata": {},
   "outputs": [],
   "source": [
    "# Convert RA and Dec to degrees for each row in the DataFrame\n",
    "for index, row in comaMb.iterrows():\n",
    "    # Get the RA and Dec values for this row\n",
    "    ra_hours, ra_minutes, ra_seconds = row[ra_cols]\n",
    "    dec_degrees, dec_minutes, dec_seconds = row[dec_cols]\n",
    "    \n",
    "     # Convert RA to degrees\n",
    "    ra_degrees = (ra_hours + ra_minutes/60 + ra_seconds/3600) * 15 \n",
    "    \n",
    "    # convert Dec to degrees\n",
    "    dec_sign = -1 if dec_degrees < 0 else 1\n",
    "    dec_degrees2 = dec_sign * (abs(dec_degrees) + dec_minutes/60 + dec_seconds/3600) +1\n",
    "\n",
    "# Update the DataFrame with the converted values\n",
    "    comaMb.at[index,  'RA_degrees'] = ra_degrees\n",
    "    comaMb.at[index, 'Dec_degress'] = dec_degrees2"
   ]
  },
  {
   "cell_type": "code",
   "execution_count": null,
   "id": "58f7d9b9",
   "metadata": {},
   "outputs": [],
   "source": [
    "# Save the updated DataFrame to a new CSV file\n",
    "comaMb.to_csv('comaMb_degrees02.csv', index=False)"
   ]
  },
  {
   "cell_type": "code",
   "execution_count": null,
   "id": "4bce5846",
   "metadata": {},
   "outputs": [],
   "source": [
    "#print(data)\n",
    "new_comaMb = pd.read_csv('comaMb_degrees02.csv')\n",
    "new_comaMb"
   ]
  },
  {
   "cell_type": "code",
   "execution_count": null,
   "id": "f16c8311",
   "metadata": {},
   "outputs": [],
   "source": [
    "# RA and Dec values (example data)\n",
    "ra_values = new_comaMb['RA_degrees']\n",
    "dec_values = new_comaMb['Dec_degress']\n",
    "\n",
    "# Create a scatter plot\n",
    "fig, ax1 = plt.subplots()\n",
    "ax1.scatter(ra_values, dec_values, color='b', marker = '*', label = 'Data3')\n",
    "\n",
    "# Set the x-axis label\n",
    "#plt.xlabel('R.A (degrees)')\n",
    "\n",
    "plt.xlim(195.3,194)\n",
    "#plt.ylim(28.5,26.5)\n",
    "\n",
    "#degree_sign = u'\\N{DEGREE SIGN}'\n",
    "#plt.xlabel('RA [' + degree_sign + ']')\n",
    "#plt.ylabel('Dec [' + degree_sign + ']')\n",
    "plt.show()"
   ]
  },
  {
   "cell_type": "code",
   "execution_count": null,
   "id": "d8d1dc5e",
   "metadata": {},
   "outputs": [],
   "source": [
    "# RA and Dec values (example data)\n",
    "x_values = new_coma['# RA']\n",
    "y_values = new_coma['Dec']\n",
    "\n",
    "# RA and Dec values (example data)\n",
    "ra_values = new_comaGMP['# RA']\n",
    "dec_values = new_comaGMP['Dec']\n",
    "\n",
    "Ra_values = new_comaMb['RA_degrees']\n",
    "Dec_values = new_comaMb['Dec_degress']\n",
    "\n",
    "ra = ngc['ra']\n",
    "dec = ngc['de']\n",
    "\n",
    "# Create a scatter plot\n",
    "plt.scatter(x_values, y_values, color='b', marker = '*', label = 'Data2')\n",
    "plt.scatter(ra_values, dec_values, color='b', marker = '*', label = 'Data1')\n",
    "plt.scatter(Ra_values, Dec_values, color='b', marker = '*', label = 'Data3')\n",
    "plt.scatter(ra, dec, color='r', marker = '*')\n",
    "\n",
    "plt.annotate('NGC4889', xy=(195.1, 29))\n",
    "plt.annotate('NGC 4874', xy=(194.87,28.9))\n",
    "plt.annotate('NGC 4839', xy=(194.4,28.2))\n",
    "# Set the title of the plot\n",
    "plt.xlim(195.4,194)\n",
    "plt.ylim(27.6,29.5)\n",
    "\n",
    "degree_sign = u'\\N{DEGREE SIGN}'\n",
    "plt.xlabel('RA [' + degree_sign + ']')\n",
    "plt.ylabel('Dec [' + degree_sign + ']')\n",
    "\n",
    "# Display the plot\n",
    "plt.show()"
   ]
  }
 ],
 "metadata": {
  "kernelspec": {
   "display_name": "Python 3 (ipykernel)",
   "language": "python",
   "name": "python3"
  },
  "language_info": {
   "codemirror_mode": {
    "name": "ipython",
    "version": 3
   },
   "file_extension": ".py",
   "mimetype": "text/x-python",
   "name": "python",
   "nbconvert_exporter": "python",
   "pygments_lexer": "ipython3",
   "version": "3.9.13"
  }
 },
 "nbformat": 4,
 "nbformat_minor": 5
}
